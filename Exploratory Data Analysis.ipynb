{
 "cells": [
  {
   "attachments": {
    "uncc_bg.png": {
     "image/png": "[encoded data removed]"
    }
   },
   "cell_type": "markdown",
   "metadata": {},
   "source": [
    "![uncc_bg.png](attachment:uncc_bg.png)"
   ]
  },
  {
   "cell_type": "markdown",
   "metadata": {},
   "source": [
    "##### <font color = 'green'> Enter your Name/Group members Name and Student Id/Id's: \n",
    "    Sree Divya Keerthi Paravasthu Siddanthi\n",
    "    Student ID: 801149985"
   ]
  },
  {
   "cell_type": "markdown",
   "metadata": {},
   "source": [
    "##### Instructions:\n",
    "*Answer questions in comments that are listed starting with (A),attach your code and comment wherever necessary.*\n",
    "<p>At the end there is a section to read on binning numerical data!</p>"
   ]
  },
  {
   "cell_type": "markdown",
   "metadata": {},
   "source": [
    "<font color = 'green'> (A) </font> *What is Exploratory Data Analysis? Why and when do you perform EDA?*\n",
    "\n"
   ]
  },
  {
   "cell_type": "markdown",
   "metadata": {},
   "source": [
    "Answer:<font color = 'blue'> <b> Exploratory Data Analysis (EDA) refers to an approach for data analysis that performs a variety of techniques to perform initial investigations on data to\n",
    "1.maximize insight into a data set;\n",
    "2.disover patterns; \n",
    "3.spot outliers and anomalies;\n",
    "4.extract important variables;\n",
    "5.test hypothesis\n",
    "6.check underlying assumptions;\n",
    "7.develop parsimonious models;\n",
    "8.determine optimal factor settings.  This can be achieved with the help of summary statistics and graphical representations. (EDA mostly uses graphical techniques.) </b> </font>    \n",
    "\n",
    "<font color = 'blue'> <b> When the dataset is very huge and complex, we prefer to use Exploratory Data Analysis(EDA) or graphical analysis to understand the data. This is because it is difficult to employ hypothetical analysis on large complex datasets and probability of inaccurate analysis is also high when employed.Also, most of the times, analysts do not have the notions of the expected relationships among variables.  </b> </font>"
   ]
  },
  {
   "cell_type": "markdown",
   "metadata": {},
   "source": [
    " *<u>Import cardata.txt dataset in this jupyter file</u> * It is often very essential to know about the data. Explore more about the data here: https://ggplot2.tidyverse.org/reference/mpg.html"
   ]
  },
  {
   "cell_type": "code",
   "execution_count": 105,
   "metadata": {},
   "outputs": [],
   "source": [
    "#Load the dataset\n",
    "import pandas as pd\n",
    "import numpy as np\n",
    "car_data = pd.read_csv(\"D:/KDD/Assignments/EDA Assignment/Chapter3_EDA/cardata.txt\")"
   ]
  },
  {
   "cell_type": "markdown",
   "metadata": {},
   "source": [
    "<font color = 'green'> (B) </font> *Summarize the dataset and display first 10 rows and last 10 rows in the dataset. Write few lines about your understanding on the data.*"
   ]
  },
  {
   "cell_type": "code",
   "execution_count": 106,
   "metadata": {},
   "outputs": [
    {
     "name": "stdout",
     "output_type": "stream",
     "text": [
      "  manufacturer       model  displ  year  cyl       trans drv  cty  hwy fl  \\\n",
      "0         audi          a4    1.8  1999    4    auto(l5)   f   18   29  p   \n",
      "1         audi          a4    1.8  1999    4  manual(m5)   f   21   29  p   \n",
      "2         audi          a4    2.0  2008    4  manual(m6)   f   20   31  p   \n",
      "3         audi          a4    2.0  2008    4    auto(av)   f   21   30  p   \n",
      "4         audi          a4    2.8  1999    6    auto(l5)   f   16   26  p   \n",
      "5         audi          a4    2.8  1999    6  manual(m5)   f   18   26  p   \n",
      "6         audi          a4    3.1  2008    6    auto(av)   f   18   27  p   \n",
      "7         audi  a4 quattro    1.8  1999    4  manual(m5)   4   18   26  p   \n",
      "8         audi  a4 quattro    1.8  1999    4    auto(l5)   4   16   25  p   \n",
      "9         audi  a4 quattro    2.0  2008    4  manual(m6)   4   20   28  p   \n",
      "\n",
      "     class  \n",
      "0  compact  \n",
      "1  compact  \n",
      "2  compact  \n",
      "3  compact  \n",
      "4  compact  \n",
      "5  compact  \n",
      "6  compact  \n",
      "7  compact  \n",
      "8  compact  \n",
      "9  compact  \n",
      "    manufacturer       model  displ  year  cyl       trans drv  cty  hwy fl  \\\n",
      "224   volkswagen  new beetle    2.0  1999    4    auto(l4)   f   19   26  r   \n",
      "225   volkswagen  new beetle    2.5  2008    5  manual(m5)   f   20   28  r   \n",
      "226   volkswagen  new beetle    2.5  2008    5    auto(s6)   f   20   29  r   \n",
      "227   volkswagen      passat    1.8  1999    4  manual(m5)   f   21   29  p   \n",
      "228   volkswagen      passat    1.8  1999    4    auto(l5)   f   18   29  p   \n",
      "229   volkswagen      passat    2.0  2008    4    auto(s6)   f   19   28  p   \n",
      "230   volkswagen      passat    2.0  2008    4  manual(m6)   f   21   29  p   \n",
      "231   volkswagen      passat    2.8  1999    6    auto(l5)   f   16   26  p   \n",
      "232   volkswagen      passat    2.8  1999    6  manual(m5)   f   18   26  p   \n",
      "233   volkswagen      passat    3.6  2008    6    auto(s6)   f   17   26  p   \n",
      "\n",
      "          class  \n",
      "224  subcompact  \n",
      "225  subcompact  \n",
      "226  subcompact  \n",
      "227     midsize  \n",
      "228     midsize  \n",
      "229     midsize  \n",
      "230     midsize  \n",
      "231     midsize  \n",
      "232     midsize  \n",
      "233     midsize  \n"
     ]
    }
   ],
   "source": [
    "###### Write your code here\n",
    "print(car_data.head(10))\n",
    "print(car_data.tail(10))\n",
    "#print(np.unique(car_data['manufacturer']))"
   ]
  },
  {
   "cell_type": "markdown",
   "metadata": {},
   "source": [
    "<font color = 'blue'> <b> The cars data is a multivariate data set. The data reports on ten specifications of the 15 car manufacturers('audi' 'chevrolet' 'dodge' 'ford' 'honda' 'hyundai' 'jeep' 'land rover', 'lincoln' 'mercury' 'nissan' 'pontiac' 'subaru' 'toyota' 'volkswagen). The data set contains 234 observations of cars. There are 11 columns of spcecifications of the cars out of which 6 are categorical ('manufacturer', 'model', 'trans', 'drv', 'fl', 'class') and 5 are numerical variables ('displ', 'year', 'cyl', 'cty', 'hwy') All observed cars belong to one of 15 manufacturers. </b> </font>"
   ]
  },
  {
   "cell_type": "markdown",
   "metadata": {},
   "source": [
    "<font color = 'green'> (C) </font> *Display the metadata information,summary statistics, check for null values and comment on the statistical summary of the dataset. Identify the numerical and categorical variables.*"
   ]
  },
  {
   "cell_type": "code",
   "execution_count": 107,
   "metadata": {},
   "outputs": [
    {
     "name": "stdout",
     "output_type": "stream",
     "text": [
      "<class 'pandas.core.frame.DataFrame'>\n",
      "RangeIndex: 234 entries, 0 to 233\n",
      "Data columns (total 11 columns):\n",
      "manufacturer    234 non-null object\n",
      "model           234 non-null object\n",
      "displ           234 non-null float64\n",
      "year            234 non-null int64\n",
      "cyl             234 non-null int64\n",
      "trans           234 non-null object\n",
      "drv             234 non-null object\n",
      "cty             234 non-null int64\n",
      "hwy             234 non-null int64\n",
      "fl              234 non-null object\n",
      "class           234 non-null object\n",
      "dtypes: float64(1), int64(4), object(6)\n",
      "memory usage: 20.2+ KB\n",
      "None\n",
      "            displ         year         cyl         cty         hwy\n",
      "count  234.000000   234.000000  234.000000  234.000000  234.000000\n",
      "mean     3.471795  2003.500000    5.888889   16.858974   23.440171\n",
      "std      1.291959     4.509646    1.611534    4.255946    5.954643\n",
      "min      1.600000  1999.000000    4.000000    9.000000   12.000000\n",
      "25%      2.400000  1999.000000    4.000000   14.000000   18.000000\n",
      "50%      3.300000  2003.500000    6.000000   17.000000   24.000000\n",
      "75%      4.600000  2008.000000    8.000000   19.000000   27.000000\n",
      "max      7.000000  2008.000000    8.000000   35.000000   44.000000\n",
      "manufacturer    0\n",
      "model           0\n",
      "displ           0\n",
      "year            0\n",
      "cyl             0\n",
      "trans           0\n",
      "drv             0\n",
      "cty             0\n",
      "hwy             0\n",
      "fl              0\n",
      "class           0\n",
      "dtype: int64\n",
      "(234, 11)\n",
      "Index(['manufacturer', 'model', 'trans', 'drv', 'fl', 'class'], dtype='object')\n",
      "Index(['displ', 'year', 'cyl', 'cty', 'hwy'], dtype='object')\n"
     ]
    }
   ],
   "source": [
    "###### Write your code here\n",
    "print (car_data.info())  #metadata information\n",
    "print(car_data.describe())  # summary statistics\n",
    "print(car_data.isnull().sum()) # checking for null values\n",
    "print(car_data.shape) #summarizing the dataset\n",
    "print(car_data.select_dtypes(include=[np.object]).columns) #categorical variables\n",
    "print(car_data._get_numeric_data().columns) #numerical variables"
   ]
  },
  {
   "cell_type": "markdown",
   "metadata": {},
   "source": [
    "<font color = 'blue'> <b> Statistical Summary: It is observed that the engine displacement of all the cars varies from 1.6 to 7. And the observation is made on the cars manufactured from mid of 2003 to 2008. And MPG is relatively high on Highways compared to City. </b> </font>    "
   ]
  },
  {
   "cell_type": "markdown",
   "metadata": {},
   "source": [
    "<font color = 'blue'> <b>  Categorical values are'manufacturer', 'model', 'trans', 'drv', 'fl', 'class'. Numerical variables are  displ', 'year', 'cyl', 'cty', 'hwy' </b> </font> "
   ]
  },
  {
   "cell_type": "markdown",
   "metadata": {},
   "source": [
    "<font color = 'green'> (D) </font> *Take the count of cars with respect to 'manufacturers'. With the categorical variables identified in the above step plot a a graph(countplot) for two variables of your choice and describe your observation on it.*"
   ]
  },
  {
   "cell_type": "code",
   "execution_count": 108,
   "metadata": {},
   "outputs": [
    {
     "name": "stdout",
     "output_type": "stream",
     "text": [
      "manufacturer\n",
      "audi          18\n",
      "chevrolet     19\n",
      "dodge         37\n",
      "ford          25\n",
      "honda          9\n",
      "hyundai       14\n",
      "jeep           8\n",
      "land rover     4\n",
      "lincoln        3\n",
      "mercury        4\n",
      "nissan        13\n",
      "pontiac        5\n",
      "subaru        14\n",
      "toyota        34\n",
      "volkswagen    27\n",
      "dtype: int64\n"
     ]
    }
   ],
   "source": [
    "###### Write your code here\n",
    "print(car_data.groupby('manufacturer').size())"
   ]
  },
  {
   "cell_type": "code",
   "execution_count": 109,
   "metadata": {},
   "outputs": [
    {
     "data": {
      "image/png": "[encoded data removed]",
      "text/plain": [
       "<Figure size 432x288 with 1 Axes>"
      ]
     },
     "metadata": {
      "needs_background": "light"
     },
     "output_type": "display_data"
    },
    {
     "data": {
      "image/png": "[encoded data removed]",
      "text/plain": [
       "<Figure size 432x288 with 1 Axes>"
      ]
     },
     "metadata": {
      "needs_background": "light"
     },
     "output_type": "display_data"
    }
   ],
   "source": [
    "import seaborn as sns\n",
    "sns_manufacturer=sns.countplot(x='manufacturer',data=car_data, palette=\"OrRd\")\n",
    "sns_manufacturer.set_xticklabels(sns_manufacturer.get_xticklabels(),rotation=40,ha=\"right\")\n",
    "plt.show()\n",
    "\n",
    "sns_trans=sns.countplot(x='trans',data=car_data, palette=\"OrRd\")\n",
    "sns_trans.set_xticklabels(sns_trans.get_xticklabels(),rotation=40,ha=\"right\")\n",
    "plt.show()\n"
   ]
  },
  {
   "cell_type": "markdown",
   "metadata": {},
   "source": [
    "<font color = 'blue'> <b> First Plot: It is observed that Dodge has highest number of cars in the dataset. And next stands Toyota,Volkswagen and Ford.The least is Lincoln.\n",
    "Second Plot: It is observed that highest number of cars have auto(l4). Next highest number have manual(m5) and least number of cars have auto(l3). </b> </font>"
   ]
  },
  {
   "cell_type": "code",
   "execution_count": 110,
   "metadata": {},
   "outputs": [],
   "source": [
    "# Load the required libraries for visualizing data graphically. These are for your reference you my add/delete any. Make sure which libraries to use to perform tasks.\n",
    "from pandas.plotting import scatter_matrix\n",
    "import matplotlib.pyplot as plt\n",
    "import numpy as np\n",
    "from sklearn import datasets, model_selection\n",
    "import warnings\n",
    "warnings.filterwarnings('ignore')\n",
    "from sklearn import model_selection"
   ]
  },
  {
   "cell_type": "markdown",
   "metadata": {},
   "source": [
    "<font color = 'green'> (E) </font> *Plot a histogram for the car dataset and comment on your observation for every variable plot.*"
   ]
  },
  {
   "cell_type": "code",
   "execution_count": 111,
   "metadata": {},
   "outputs": [
    {
     "data": {
      "image/png": "[encoded data removed]",
      "text/plain": [
       "<Figure size 432x288 with 6 Axes>"
      ]
     },
     "metadata": {
      "needs_background": "light"
     },
     "output_type": "display_data"
    }
   ],
   "source": [
    "###### Write your code here\n",
    "car_data.hist()\n",
    "plt.show()"
   ]
  },
  {
   "cell_type": "markdown",
   "metadata": {},
   "source": [
    "<font color = 'blue'> <b> The graphs are a univariate form of visualizing the data.  From  the above graphs we could see that the data for each attribute is not normally distrubuted. \n",
    "   cty graph: not normally distributed. Left skewed. \n",
    "   cyl graph: not normally distributed. Left skewed.\n",
    "    Displ graph: not normally distributed. Right skewed.\n",
    "    hwy graph: not normally distributed. Left skewed.\n",
    "    year: Normally distributed. Also, the density is high between the years 1999-2001 and 2006-2008.\n",
    "    \n",
    "   we could see some ouliers in the graph for cty and hwy </b> </font>"
   ]
  },
  {
   "cell_type": "markdown",
   "metadata": {},
   "source": [
    "<font color = 'green'> (F) </font> *Plot a distplot for the year attribute in the car dataset and comment on your observation.*"
   ]
  },
  {
   "cell_type": "code",
   "execution_count": 133,
   "metadata": {},
   "outputs": [
    {
     "data": {
      "text/plain": [
       "displ       3.471795\n",
       "year     2003.500000\n",
       "cyl         5.888889\n",
       "cty        16.858974\n",
       "hwy        23.440171\n",
       "dtype: float64"
      ]
     },
     "execution_count": 133,
     "metadata": {},
     "output_type": "execute_result"
    },
    {
     "data": {
      "image/png": "[encoded data removed]",
      "text/plain": [
       "<Figure size 432x288 with 1 Axes>"
      ]
     },
     "metadata": {
      "needs_background": "light"
     },
     "output_type": "display_data"
    }
   ],
   "source": [
    "###### Write your code here\n",
    "sns.distplot(a=car_data[\"year\"],rug=True)\n",
    "np.mean(car_data)"
   ]
  },
  {
   "cell_type": "markdown",
   "metadata": {},
   "source": [
    "<font color = 'blue'> <b> y-axis represents density. The curve shows the density plot which is a smooth version of the given histogram. The density is high between the years 1999-2001 and 2006-2008.\n",
    "The histogram is normalized so that it has the same y-scale as the density plot. </b> </font>"
   ]
  },
  {
   "cell_type": "code",
   "execution_count": 134,
   "metadata": {},
   "outputs": [
    {
     "name": "stdout",
     "output_type": "stream",
     "text": [
      "displ       3.3\n",
      "year     2003.5\n",
      "cyl         6.0\n",
      "cty        17.0\n",
      "hwy        24.0\n",
      "dtype: float64\n"
     ]
    }
   ],
   "source": [
    "print(car_data.median())"
   ]
  },
  {
   "cell_type": "markdown",
   "metadata": {},
   "source": [
    "<font color = 'green'> (G) </font> *Plot a Scatter plot for Engine Displacement in Liters vs Highway MPG and comment on your observation and attributes used in plotting.*"
   ]
  },
  {
   "cell_type": "code",
   "execution_count": 113,
   "metadata": {},
   "outputs": [
    {
     "data": {
      "image/png": "[encoded data removed]",
      "text/plain": [
       "<Figure size 432x288 with 1 Axes>"
      ]
     },
     "metadata": {
      "needs_background": "light"
     },
     "output_type": "display_data"
    }
   ],
   "source": [
    "###### Write your code here\n",
    "plt.scatter(car_data['hwy'],car_data['displ'])\n",
    "plt.xlabel(\"Highway MPG\")\n",
    "plt.ylabel(\"Engine displacement in Litres\")\n",
    "plt.title(\"Engine displacement in Litres vs Highway MPG\")\n",
    "plt.show()"
   ]
  },
  {
   "cell_type": "markdown",
   "metadata": {},
   "source": [
    "<font color = 'blue'> <b> 1.The engine displacement decereases as the highway MPG increases.\n",
    "                          2.Highway MPG is negatively correlated to Engine dispalcement.\n",
    "                          3.Also we observe that there are outliers in the graph\n",
    "                          4.The density of the graph is left skewed.\n",
    "                          5.Most of the cars have high engine displacement when the Highway MPG is less </b> </font>"
   ]
  },
  {
   "cell_type": "markdown",
   "metadata": {},
   "source": [
    "<font color = 'green'> (H) </font> *Look for the outliers in the dataset. How do you find them? Are there any outliers?*"
   ]
  },
  {
   "cell_type": "code",
   "execution_count": 114,
   "metadata": {},
   "outputs": [
    {
     "data": {
      "image/png": "[encoded data removed]",
      "text/plain": [
       "<Figure size 432x288 with 6 Axes>"
      ]
     },
     "metadata": {
      "needs_background": "light"
     },
     "output_type": "display_data"
    }
   ],
   "source": [
    "###### Write your code here\n",
    "car_data.plot(kind='box', subplots=True, layout=(2,3), sharex=False, sharey=False)\n",
    "plt.show() "
   ]
  },
  {
   "cell_type": "markdown",
   "metadata": {},
   "source": [
    "<font color = 'blue'> <b> Box and Whisker plots shows how the data is distributed for each attribute and helps in analysing the summary of statistics graphically. Any point outside of the whiskers are treated as individual points known as outliers. \n",
    " Yes, there are outliers in cty and hwy </b> </font>"
   ]
  },
  {
   "cell_type": "markdown",
   "metadata": {},
   "source": [
    "<font color = 'green'> (I) </font> *How do you check graphically if the data is normally distributed for the model 'mustang' against city miles per gallon ? Comment on the same.*"
   ]
  },
  {
   "cell_type": "code",
   "execution_count": 115,
   "metadata": {},
   "outputs": [
    {
     "data": {
      "text/plain": [
       "Text(0.5, 1.0, 'Mustang-city Q-Q Plot')"
      ]
     },
     "execution_count": 115,
     "metadata": {},
     "output_type": "execute_result"
    },
    {
     "data": {
      "image/png": "[encoded data removed]",
      "text/plain": [
       "<Figure size 432x288 with 1 Axes>"
      ]
     },
     "metadata": {
      "needs_background": "light"
     },
     "output_type": "display_data"
    }
   ],
   "source": [
    "###### Write your code here\n",
    "from scipy import stats\n",
    "import matplotlib.pyplot as plt\n",
    "\n",
    "car_mustang = car_data.query('model== \"mustang\"')\n",
    "stats.probplot(car_mustang['cty'], dist=\"norm\", plot= plt)\n",
    "plt.title(\"Mustang-city Q-Q Plot\")\n"
   ]
  },
  {
   "cell_type": "markdown",
   "metadata": {},
   "source": [
    "<font color = 'blue'> <b> The q-q plot represents normality visualizing the data. \n",
    "The data should be on the red line for normally distributed data. But we observe that the data points are not on the red line and there are many deviations. This indicated that the graph is not normally distributed. </b> </font>"
   ]
  },
  {
   "cell_type": "markdown",
   "metadata": {},
   "source": [
    "<font color = 'green'> (J) </font> *Plot the number of cars by make on a horizontal bar graph.Write your observations on it.*"
   ]
  },
  {
   "cell_type": "code",
   "execution_count": 116,
   "metadata": {},
   "outputs": [
    {
     "data": {
      "text/plain": [
       "<matplotlib.axes._subplots.AxesSubplot at 0x20b5ddc0e48>"
      ]
     },
     "execution_count": 116,
     "metadata": {},
     "output_type": "execute_result"
    },
    {
     "data": {
      "image/png": "[encoded data removed]",
      "text/plain": [
       "<Figure size 432x288 with 1 Axes>"
      ]
     },
     "metadata": {
      "needs_background": "light"
     },
     "output_type": "display_data"
    }
   ],
   "source": [
    "###### Write your code here\n",
    "car_bar = car_data.groupby(\"manufacturer\")['manufacturer'].count()\n",
    "car_bar.plot.barh(stacked=False)"
   ]
  },
  {
   "cell_type": "markdown",
   "metadata": {},
   "source": [
    "<font color = 'blue'> <b> The number of cars of Dodge is highest among all other manufacturers. Next in the line are Toyota,Volkswagen and Ford. Chevrolet,Audi,Subaru,Hyundai,Nissan also has considerable number of cars. Remaining manufacturers have less numebr of cars </b> </font>"
   ]
  },
  {
   "cell_type": "markdown",
   "metadata": {},
   "source": [
    "<font color = 'green'> (K) </font> *Calculate the standard deviation and the variance for the attribute \"engine displacement in litres(displ)\"\n",
    ".*"
   ]
  },
  {
   "cell_type": "code",
   "execution_count": 117,
   "metadata": {},
   "outputs": [
    {
     "name": "stdout",
     "output_type": "stream",
     "text": [
      "1.6620249835634442\n",
      "1.2891954791898101\n"
     ]
    }
   ],
   "source": [
    "###### Write your code here\n",
    "# Compute the variance: variance\n",
    "variance = np.var(car_data.displ)\n",
    "print(variance)\n",
    "\n",
    "# Print the standard deviation\n",
    "std = np.std(car_data.displ)\n",
    "print(std)"
   ]
  },
  {
   "cell_type": "markdown",
   "metadata": {},
   "source": [
    "<font color = 'green'> (L) </font> *Calculate the pearson correlation coefficient for the given dataset and generate heatmap for the same.*"
   ]
  },
  {
   "cell_type": "code",
   "execution_count": 118,
   "metadata": {},
   "outputs": [
    {
     "data": {
      "image/png": "[encoded data removed]",
      "text/plain": [
       "<Figure size 504x288 with 2 Axes>"
      ]
     },
     "metadata": {
      "needs_background": "light"
     },
     "output_type": "display_data"
    }
   ],
   "source": [
    "###### Write your code here\n",
    "car_data.corr()\n",
    "plt.figure(figsize=(7,4))\n",
    "sns.heatmap(car_data.corr(),annot=True,cmap='cubehelix_r')#draws heatmap with input as the correlation matrix calculated by (car_data.corr())\n",
    "plt.show()"
   ]
  },
  {
   "cell_type": "markdown",
   "metadata": {},
   "source": [
    "###### Good Job!!\n",
    "<font color = 'green'> <b> That's the end of your Assignment</b> </font>\n",
    "<p>Just one more concept to explore - binning!  Sometimes we want to put continuous numeric variables in bins in order to mine the data effectively.</p> <p>Think about a temperature variable - it is better to classify it as low, medium and high for some mining algorithms.</p> <p> Additionally, for some algorithms such as neural networks we need categorical variables to be \"flag\" variables.  For example, Location with North, South, East and West becomes three variables North (0 or 1) South (0 or 1) East (0 or 1) then West is when the other three are all 0's.  </P> <p>We will explore binning further in the code below - for now just take a look!</p>"
   ]
  },
  {
   "cell_type": "code",
   "execution_count": 119,
   "metadata": {},
   "outputs": [
    {
     "data": {
      "text/html": [
       "<div>\n",
       "<style scoped>\n",
       "    .dataframe tbody tr th:only-of-type {\n",
       "        vertical-align: middle;\n",
       "    }\n",
       "\n",
       "    .dataframe tbody tr th {\n",
       "        vertical-align: top;\n",
       "    }\n",
       "\n",
       "    .dataframe thead th {\n",
       "        text-align: right;\n",
       "    }\n",
       "</style>\n",
       "<table border=\"1\" class=\"dataframe\">\n",
       "  <thead>\n",
       "    <tr style=\"text-align: right;\">\n",
       "      <th>attributes</th>\n",
       "      <th>city</th>\n",
       "      <th>rank</th>\n",
       "      <th>score1</th>\n",
       "      <th>score2</th>\n",
       "    </tr>\n",
       "    <tr>\n",
       "      <th>letter</th>\n",
       "      <th></th>\n",
       "      <th></th>\n",
       "      <th></th>\n",
       "      <th></th>\n",
       "    </tr>\n",
       "  </thead>\n",
       "  <tbody>\n",
       "    <tr>\n",
       "      <th>A</th>\n",
       "      <td>Tripoli</td>\n",
       "      <td>1st</td>\n",
       "      <td>44</td>\n",
       "      <td>67</td>\n",
       "    </tr>\n",
       "    <tr>\n",
       "      <th>B</th>\n",
       "      <td>Sydney</td>\n",
       "      <td>2nd</td>\n",
       "      <td>48</td>\n",
       "      <td>63</td>\n",
       "    </tr>\n",
       "    <tr>\n",
       "      <th>C</th>\n",
       "      <td>Tripoli</td>\n",
       "      <td>1st</td>\n",
       "      <td>39</td>\n",
       "      <td>55</td>\n",
       "    </tr>\n",
       "    <tr>\n",
       "      <th>D</th>\n",
       "      <td>Rome</td>\n",
       "      <td>2nd</td>\n",
       "      <td>41</td>\n",
       "      <td>70</td>\n",
       "    </tr>\n",
       "    <tr>\n",
       "      <th>E</th>\n",
       "      <td>Rome</td>\n",
       "      <td>1st</td>\n",
       "      <td>38</td>\n",
       "      <td>64</td>\n",
       "    </tr>\n",
       "    <tr>\n",
       "      <th>F</th>\n",
       "      <td>Tripoli</td>\n",
       "      <td>2nd</td>\n",
       "      <td>44</td>\n",
       "      <td>75</td>\n",
       "    </tr>\n",
       "    <tr>\n",
       "      <th>G</th>\n",
       "      <td>Rome</td>\n",
       "      <td>1st</td>\n",
       "      <td>34</td>\n",
       "      <td>45</td>\n",
       "    </tr>\n",
       "    <tr>\n",
       "      <th>H</th>\n",
       "      <td>Sydney</td>\n",
       "      <td>2nd</td>\n",
       "      <td>54</td>\n",
       "      <td>66</td>\n",
       "    </tr>\n",
       "    <tr>\n",
       "      <th>I</th>\n",
       "      <td>Sydney</td>\n",
       "      <td>1st</td>\n",
       "      <td>61</td>\n",
       "      <td>72</td>\n",
       "    </tr>\n",
       "  </tbody>\n",
       "</table>\n",
       "</div>"
      ],
      "text/plain": [
       "attributes     city rank  score1  score2\n",
       "letter                                  \n",
       "A           Tripoli  1st      44      67\n",
       "B            Sydney  2nd      48      63\n",
       "C           Tripoli  1st      39      55\n",
       "D              Rome  2nd      41      70\n",
       "E              Rome  1st      38      64\n",
       "F           Tripoli  2nd      44      75\n",
       "G              Rome  1st      34      45\n",
       "H            Sydney  2nd      54      66\n",
       "I            Sydney  1st      61      72"
      ]
     },
     "execution_count": 119,
     "metadata": {},
     "output_type": "execute_result"
    }
   ],
   "source": [
    "#import pandas\n",
    "import pandas as pd\n",
    "#first create raw_data to use for our data\n",
    "raw_data = {\n",
    "         \"city\": [\"Tripoli\", \"Sydney\", \"Tripoli\", \"Rome\", \"Rome\", \"Tripoli\",\"Rome\", \"Sydney\", \"Sydney\"],\n",
    "         \"rank\": [\"1st\", \"2nd\", \"1st\", \"2nd\", \"1st\", \"2nd\",\"1st\", \"2nd\", \"1st\"], \n",
    "         \"score1\": [44, 48, 39, 41, 38, 44, 34, 54, 61],\n",
    "         \"score2\": [67, 63, 55, 70, 64, 75, 45, 66, 72]\n",
    "        }\n",
    "#create df as a DataFrame\n",
    "df = pd.DataFrame(raw_data, \n",
    "                  index = pd.Index(['A','B','C','D','E','F','G','H','I'], name='letter'),\n",
    "                  columns = pd.Index(['city', 'rank','score1','score2'],name='attributes'))\n",
    "#df\n",
    "df\n"
   ]
  },
  {
   "cell_type": "code",
   "execution_count": 120,
   "metadata": {},
   "outputs": [],
   "source": [
    "#Define bins as 0 to 25, 25 - 50, 50 - 75, 75 - 100\n",
    "bins = [0, 25, 50, 75, 100]\n"
   ]
  },
  {
   "cell_type": "code",
   "execution_count": 121,
   "metadata": {},
   "outputs": [],
   "source": [
    "#names for the four groups\n",
    "group_names = ['low', 'average', 'good', 'brilliant']"
   ]
  },
  {
   "cell_type": "code",
   "execution_count": 122,
   "metadata": {},
   "outputs": [],
   "source": [
    "#now create grade with score2 arranged according to gins\n",
    "df['grade'] = pd.cut(df['score2'], bins, labels=group_names)"
   ]
  },
  {
   "cell_type": "code",
   "execution_count": 123,
   "metadata": {},
   "outputs": [
    {
     "data": {
      "text/html": [
       "<div>\n",
       "<style scoped>\n",
       "    .dataframe tbody tr th:only-of-type {\n",
       "        vertical-align: middle;\n",
       "    }\n",
       "\n",
       "    .dataframe tbody tr th {\n",
       "        vertical-align: top;\n",
       "    }\n",
       "\n",
       "    .dataframe thead th {\n",
       "        text-align: right;\n",
       "    }\n",
       "</style>\n",
       "<table border=\"1\" class=\"dataframe\">\n",
       "  <thead>\n",
       "    <tr style=\"text-align: right;\">\n",
       "      <th>attributes</th>\n",
       "      <th>city</th>\n",
       "      <th>rank</th>\n",
       "      <th>score1</th>\n",
       "      <th>score2</th>\n",
       "      <th>grade</th>\n",
       "    </tr>\n",
       "    <tr>\n",
       "      <th>letter</th>\n",
       "      <th></th>\n",
       "      <th></th>\n",
       "      <th></th>\n",
       "      <th></th>\n",
       "      <th></th>\n",
       "    </tr>\n",
       "  </thead>\n",
       "  <tbody>\n",
       "    <tr>\n",
       "      <th>A</th>\n",
       "      <td>Tripoli</td>\n",
       "      <td>1st</td>\n",
       "      <td>44</td>\n",
       "      <td>67</td>\n",
       "      <td>good</td>\n",
       "    </tr>\n",
       "    <tr>\n",
       "      <th>B</th>\n",
       "      <td>Sydney</td>\n",
       "      <td>2nd</td>\n",
       "      <td>48</td>\n",
       "      <td>63</td>\n",
       "      <td>good</td>\n",
       "    </tr>\n",
       "    <tr>\n",
       "      <th>C</th>\n",
       "      <td>Tripoli</td>\n",
       "      <td>1st</td>\n",
       "      <td>39</td>\n",
       "      <td>55</td>\n",
       "      <td>good</td>\n",
       "    </tr>\n",
       "    <tr>\n",
       "      <th>D</th>\n",
       "      <td>Rome</td>\n",
       "      <td>2nd</td>\n",
       "      <td>41</td>\n",
       "      <td>70</td>\n",
       "      <td>good</td>\n",
       "    </tr>\n",
       "    <tr>\n",
       "      <th>E</th>\n",
       "      <td>Rome</td>\n",
       "      <td>1st</td>\n",
       "      <td>38</td>\n",
       "      <td>64</td>\n",
       "      <td>good</td>\n",
       "    </tr>\n",
       "    <tr>\n",
       "      <th>F</th>\n",
       "      <td>Tripoli</td>\n",
       "      <td>2nd</td>\n",
       "      <td>44</td>\n",
       "      <td>75</td>\n",
       "      <td>good</td>\n",
       "    </tr>\n",
       "    <tr>\n",
       "      <th>G</th>\n",
       "      <td>Rome</td>\n",
       "      <td>1st</td>\n",
       "      <td>34</td>\n",
       "      <td>45</td>\n",
       "      <td>average</td>\n",
       "    </tr>\n",
       "    <tr>\n",
       "      <th>H</th>\n",
       "      <td>Sydney</td>\n",
       "      <td>2nd</td>\n",
       "      <td>54</td>\n",
       "      <td>66</td>\n",
       "      <td>good</td>\n",
       "    </tr>\n",
       "    <tr>\n",
       "      <th>I</th>\n",
       "      <td>Sydney</td>\n",
       "      <td>1st</td>\n",
       "      <td>61</td>\n",
       "      <td>72</td>\n",
       "      <td>good</td>\n",
       "    </tr>\n",
       "  </tbody>\n",
       "</table>\n",
       "</div>"
      ],
      "text/plain": [
       "attributes     city rank  score1  score2    grade\n",
       "letter                                           \n",
       "A           Tripoli  1st      44      67     good\n",
       "B            Sydney  2nd      48      63     good\n",
       "C           Tripoli  1st      39      55     good\n",
       "D              Rome  2nd      41      70     good\n",
       "E              Rome  1st      38      64     good\n",
       "F           Tripoli  2nd      44      75     good\n",
       "G              Rome  1st      34      45  average\n",
       "H            Sydney  2nd      54      66     good\n",
       "I            Sydney  1st      61      72     good"
      ]
     },
     "execution_count": 123,
     "metadata": {},
     "output_type": "execute_result"
    }
   ],
   "source": [
    "df\n",
    "#now that is pretty cool! Our numeric data has been binned into categories!"
   ]
  }
 ],
 "metadata": {
  "kernelspec": {
   "display_name": "Python 3",
   "language": "python",
   "name": "python3"
  },
  "language_info": {
   "codemirror_mode": {
    "name": "ipython",
    "version": 3
   },
   "file_extension": ".py",
   "mimetype": "text/x-python",
   "name": "python",
   "nbconvert_exporter": "python",
   "pygments_lexer": "ipython3",
   "version": "3.7.3"
  }
 },
 "nbformat": 4,
 "nbformat_minor": 2
}
